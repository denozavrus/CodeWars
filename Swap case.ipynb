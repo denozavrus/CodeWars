{
 "cells": [
  {
   "cell_type": "code",
   "execution_count": 29,
   "metadata": {},
   "outputs": [],
   "source": [
    "from string import punctuation "
   ]
  },
  {
   "cell_type": "code",
   "execution_count": 5,
   "metadata": {},
   "outputs": [
    {
     "data": {
      "text/plain": [
       "'1011'"
      ]
     },
     "execution_count": 5,
     "metadata": {},
     "output_type": "execute_result"
    }
   ],
   "source": [
    "bin(11)[2:]"
   ]
  },
  {
   "cell_type": "code",
   "execution_count": 7,
   "metadata": {},
   "outputs": [
    {
     "data": {
      "text/plain": [
       "'100111'"
      ]
     },
     "execution_count": 7,
     "metadata": {},
     "output_type": "execute_result"
    }
   ],
   "source": [
    "bin(39)[2:]"
   ]
  },
  {
   "cell_type": "code",
   "execution_count": 75,
   "metadata": {},
   "outputs": [],
   "source": [
    "def swap(s,n):\n",
    "    \n",
    "    def change_capital(letter):\n",
    "    if letter.islower():\n",
    "        return letter.upper()\n",
    "    else:\n",
    "        return letter.lower()\n",
    "    \n",
    "    new_s = ''.join([c for c in s if c not in punctuation and c != ' '])\n",
    "    bits = bin(n)[2:]\n",
    "    mult = int(len(new_s) / len(bits)) + 1\n",
    "    bits = (bits * mult) [ : len(new_s)]\n",
    "    \n",
    "    res = ''\n",
    "    j = 0\n",
    "    for i in s:\n",
    "        if i in new_s:\n",
    "            \n",
    "            if int (bits[j]):\n",
    "                res += change_capital(i)\n",
    "                j += 1\n",
    "            else:\n",
    "                res += i\n",
    "                j += 1\n",
    "\n",
    "        else:\n",
    "            res += i\n",
    "                \n",
    "    return res "
   ]
  },
  {
   "cell_type": "code",
   "execution_count": 76,
   "metadata": {},
   "outputs": [
    {
     "data": {
      "text/plain": [
       "'heLLO wORLd!'"
      ]
     },
     "execution_count": 76,
     "metadata": {},
     "output_type": "execute_result"
    }
   ],
   "source": [
    "swap('Hello world!', 11)"
   ]
  },
  {
   "cell_type": "code",
   "execution_count": 77,
   "metadata": {},
   "outputs": [
    {
     "data": {
      "text/plain": [
       "'The QUicK BrowN foX LeaPT ovER thE FenCE'"
      ]
     },
     "execution_count": 77,
     "metadata": {},
     "output_type": "execute_result"
    }
   ],
   "source": [
    "swap('the quick broWn fox leapt over the fence',9)"
   ]
  },
  {
   "cell_type": "code",
   "execution_count": 1,
   "metadata": {},
   "outputs": [],
   "source": [
    "from itertools import cycle\n",
    "\n",
    "def swap(s,n):\n",
    "    doSwap = cycle(map(int,f\"{n:b}\"))\n",
    "    return ''.join(c.swapcase() if c.isalpha() and next(doSwap) else c for c in s)"
   ]
  }
 ],
 "metadata": {
  "kernelspec": {
   "display_name": "Python 3",
   "language": "python",
   "name": "python3"
  },
  "language_info": {
   "codemirror_mode": {
    "name": "ipython",
    "version": 3
   },
   "file_extension": ".py",
   "mimetype": "text/x-python",
   "name": "python",
   "nbconvert_exporter": "python",
   "pygments_lexer": "ipython3",
   "version": "3.7.6"
  }
 },
 "nbformat": 4,
 "nbformat_minor": 4
}
