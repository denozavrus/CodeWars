{
 "cells": [
  {
   "cell_type": "code",
   "execution_count": 14,
   "metadata": {},
   "outputs": [],
   "source": [
    "def get_order(string):\n",
    "    \n",
    "    ordered = {\"burger\" : 0, \n",
    "              'fries' : 0, \n",
    "              'chicken' : 0,\n",
    "              'pizza' : 0, \n",
    "              'sandwich' : 0, \n",
    "              'onionrings' : 0, \n",
    "              'milkshake' : 0, \n",
    "              'coke' : 0}\n",
    "    \n",
    "    res = ''\n",
    "    for key, _ in ordered.items():\n",
    "        ordered[key] = string.count(key)\n",
    "        res +=  (key.capitalize() + ' ') * ordered[key]\n",
    "    return res.strip()"
   ]
  },
  {
   "cell_type": "code",
   "execution_count": 15,
   "metadata": {},
   "outputs": [
    {
     "data": {
      "text/plain": [
       "'Burger Fries Chicken Pizza Pizza Pizza Sandwich Milkshake Milkshake Coke'"
      ]
     },
     "execution_count": 15,
     "metadata": {},
     "output_type": "execute_result"
    }
   ],
   "source": [
    "get_order(\"milkshakepizzachickenfriescokeburgerpizzasandwichmilkshakepizza\")"
   ]
  },
  {
   "cell_type": "code",
   "execution_count": 16,
   "metadata": {},
   "outputs": [
    {
     "data": {
      "text/plain": [
       "'Burger Fries Fries Chicken Pizza Sandwich Milkshake Coke'"
      ]
     },
     "execution_count": 16,
     "metadata": {},
     "output_type": "execute_result"
    }
   ],
   "source": [
    "get_order (\"pizzachickenfriesburgercokemilkshakefriessandwich\")"
   ]
  }
 ],
 "metadata": {
  "kernelspec": {
   "display_name": "Python 3",
   "language": "python",
   "name": "python3"
  },
  "language_info": {
   "codemirror_mode": {
    "name": "ipython",
    "version": 3
   },
   "file_extension": ".py",
   "mimetype": "text/x-python",
   "name": "python",
   "nbconvert_exporter": "python",
   "pygments_lexer": "ipython3",
   "version": "3.7.6"
  }
 },
 "nbformat": 4,
 "nbformat_minor": 4
}
