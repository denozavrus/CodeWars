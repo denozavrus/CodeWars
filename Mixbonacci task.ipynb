{
 "cells": [
  {
   "cell_type": "code",
   "execution_count": 60,
   "metadata": {},
   "outputs": [],
   "source": [
    "def mixbonacci(pattern, length):\n",
    "    \n",
    "    from itertools import cycle\n",
    "    \n",
    "    def fib (n):\n",
    "        fib1, fib2 = 0, 1\n",
    "        for i in range (n):\n",
    "            fib1, fib2 = fib2, fib1 + fib2\n",
    "        return fib1\n",
    "\n",
    "    def pad (n):\n",
    "        pad1, pad2, pad3 = 1, 0, 0\n",
    "        for i in range (n):\n",
    "            pad1, pad2, pad3 = pad2, pad3, pad1 + pad2\n",
    "        return pad1\n",
    "    \n",
    "    def jac (n):\n",
    "        jac1, jac2 = 0, 1\n",
    "        for i in range (n):\n",
    "            jac1, jac2 = jac2, jac1 * 2 + jac2\n",
    "        return jac1\n",
    "    \n",
    "    def pel (n):\n",
    "        pel1, pel2 = 0, 1\n",
    "        for i in range (n):\n",
    "            pel1, pel2 = pel2, pel1 + 2 * pel2\n",
    "        return pel1\n",
    "    \n",
    "    def tri (n):\n",
    "        tri1, tri2, tri3 = 0, 0, 1\n",
    "        for i in range (n):\n",
    "            tri1, tri2, tri3 = tri2, tri3, tri1 + tri2 + tri3\n",
    "        return tri1\n",
    "    \n",
    "    def tet (n):\n",
    "        tet1, tet2, tet3, tet4 = 0, 0, 0, 1\n",
    "        for i in range (n):\n",
    "            tet1, tet2, tet3, tet4 = tet2, tet3, tet4, tet1 + tet2 + tet3 + tet4\n",
    "        return tet1\n",
    "    \n",
    "    res = []\n",
    "    counter = { \n",
    "                'fib' : 0, \n",
    "                'pad' : 0, \n",
    "                'jac' : 0, \n",
    "                'pel' : 0, \n",
    "                'tri' : 0, \n",
    "                'tet' : 0\n",
    "              }\n",
    "\n",
    "    l = 0\n",
    "    for i in cycle(pattern):\n",
    "        if l >= length:\n",
    "            break\n",
    "\n",
    "        res.append (eval ('{}({})'.format(i, counter[i])) )\n",
    "        counter[i] += 1\n",
    "        l += 1\n",
    "    return res"
   ]
  },
  {
   "cell_type": "code",
   "execution_count": 61,
   "metadata": {},
   "outputs": [
    {
     "data": {
      "text/plain": [
       "[]"
      ]
     },
     "execution_count": 61,
     "metadata": {},
     "output_type": "execute_result"
    }
   ],
   "source": [
    "mixbonacci ([], 10)"
   ]
  },
  {
   "cell_type": "code",
   "execution_count": 62,
   "metadata": {},
   "outputs": [
    {
     "data": {
      "text/plain": [
       "[]"
      ]
     },
     "execution_count": 62,
     "metadata": {},
     "output_type": "execute_result"
    }
   ],
   "source": [
    "mixbonacci (['fib'], 0)"
   ]
  },
  {
   "cell_type": "code",
   "execution_count": 63,
   "metadata": {},
   "outputs": [
    {
     "data": {
      "text/plain": [
       "[0, 1, 1, 2, 3, 5, 8, 13, 21, 34]"
      ]
     },
     "execution_count": 63,
     "metadata": {},
     "output_type": "execute_result"
    }
   ],
   "source": [
    "mixbonacci (['fib'], 10)"
   ]
  },
  {
   "cell_type": "code",
   "execution_count": 64,
   "metadata": {},
   "outputs": [
    {
     "data": {
      "text/plain": [
       "[1, 0, 0, 1, 0, 1, 1, 1, 2, 2]"
      ]
     },
     "execution_count": 64,
     "metadata": {},
     "output_type": "execute_result"
    }
   ],
   "source": [
    "mixbonacci (['pad'], 10)"
   ]
  },
  {
   "cell_type": "code",
   "execution_count": 65,
   "metadata": {},
   "outputs": [
    {
     "data": {
      "text/plain": [
       "[0, 1, 1, 3, 5, 11, 21, 43, 85, 171]"
      ]
     },
     "execution_count": 65,
     "metadata": {},
     "output_type": "execute_result"
    }
   ],
   "source": [
    "mixbonacci (['jac'], 10)"
   ]
  },
  {
   "cell_type": "code",
   "execution_count": 66,
   "metadata": {},
   "outputs": [
    {
     "data": {
      "text/plain": [
       "[0, 1, 2, 5, 12, 29, 70, 169, 408, 985]"
      ]
     },
     "execution_count": 66,
     "metadata": {},
     "output_type": "execute_result"
    }
   ],
   "source": [
    "mixbonacci (['pel'], 10)"
   ]
  },
  {
   "cell_type": "code",
   "execution_count": 67,
   "metadata": {},
   "outputs": [
    {
     "data": {
      "text/plain": [
       "[0, 0, 1, 1, 2, 4, 7, 13, 24, 44]"
      ]
     },
     "execution_count": 67,
     "metadata": {},
     "output_type": "execute_result"
    }
   ],
   "source": [
    "mixbonacci (['tri'], 10)"
   ]
  },
  {
   "cell_type": "code",
   "execution_count": 68,
   "metadata": {},
   "outputs": [
    {
     "data": {
      "text/plain": [
       "[0, 0, 0, 1, 1, 2, 4, 8, 15, 29]"
      ]
     },
     "execution_count": 68,
     "metadata": {},
     "output_type": "execute_result"
    }
   ],
   "source": [
    "mixbonacci (['tet'], 10)"
   ]
  },
  {
   "cell_type": "code",
   "execution_count": 69,
   "metadata": {},
   "outputs": [
    {
     "data": {
      "text/plain": [
       "[0, 0, 1, 0, 1, 0, 2, 1, 3, 1]"
      ]
     },
     "execution_count": 69,
     "metadata": {},
     "output_type": "execute_result"
    }
   ],
   "source": [
    "mixbonacci (['fib', 'tet'], 10)"
   ]
  },
  {
   "cell_type": "code",
   "execution_count": 70,
   "metadata": {},
   "outputs": [
    {
     "data": {
      "text/plain": [
       "[0, 1, 0, 1, 3, 1, 5, 11, 2, 21]"
      ]
     },
     "execution_count": 70,
     "metadata": {},
     "output_type": "execute_result"
    }
   ],
   "source": [
    "mixbonacci (['jac', 'jac', 'pel'], 10) "
   ]
  },
  {
   "cell_type": "code",
   "execution_count": 71,
   "metadata": {},
   "outputs": [],
   "source": [
    "def fib (n):\n",
    "    fib1, fib2 = 0, 1\n",
    "    for i in range (n):\n",
    "        fib1, fib2 = fib2, fib1 + fib2\n",
    "    return fib1    "
   ]
  },
  {
   "cell_type": "code",
   "execution_count": 76,
   "metadata": {},
   "outputs": [],
   "source": [
    "def fib_rec (n):\n",
    "    if n in (1, 2):\n",
    "        return 1\n",
    "    return fib_rec(n - 1) + fib_rec(n - 2)"
   ]
  },
  {
   "cell_type": "code",
   "execution_count": 82,
   "metadata": {},
   "outputs": [
    {
     "name": "stdout",
     "output_type": "stream",
     "text": [
      "1.8 µs ± 163 ns per loop (mean ± std. dev. of 7 runs, 1000000 loops each)\n"
     ]
    }
   ],
   "source": [
    "%timeit fib(15)"
   ]
  },
  {
   "cell_type": "code",
   "execution_count": 83,
   "metadata": {},
   "outputs": [
    {
     "name": "stdout",
     "output_type": "stream",
     "text": [
      "270 µs ± 9.54 µs per loop (mean ± std. dev. of 7 runs, 1000 loops each)\n"
     ]
    }
   ],
   "source": [
    "%timeit fib_rec(15)"
   ]
  }
 ],
 "metadata": {
  "kernelspec": {
   "display_name": "Python 3",
   "language": "python",
   "name": "python3"
  },
  "language_info": {
   "codemirror_mode": {
    "name": "ipython",
    "version": 3
   },
   "file_extension": ".py",
   "mimetype": "text/x-python",
   "name": "python",
   "nbconvert_exporter": "python",
   "pygments_lexer": "ipython3",
   "version": "3.7.6"
  }
 },
 "nbformat": 4,
 "nbformat_minor": 4
}
