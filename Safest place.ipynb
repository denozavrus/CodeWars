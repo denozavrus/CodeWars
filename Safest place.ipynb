{
 "cells": [
  {
   "cell_type": "code",
   "execution_count": 1,
   "metadata": {},
   "outputs": [],
   "source": [
    "import numpy as np"
   ]
  },
  {
   "cell_type": "code",
   "execution_count": 14,
   "metadata": {},
   "outputs": [],
   "source": [
    "n = 6\n",
    "arr = np.full((n,n), np.inf)"
   ]
  },
  {
   "cell_type": "code",
   "execution_count": 15,
   "metadata": {},
   "outputs": [
    {
     "data": {
      "text/plain": [
       "array([[inf, inf, inf, inf, inf, inf],\n",
       "       [inf, inf, inf, inf, inf, inf],\n",
       "       [inf, inf, inf, inf, inf, inf],\n",
       "       [inf, inf, inf, inf, inf, inf],\n",
       "       [inf, inf, inf, inf, inf, inf],\n",
       "       [inf, inf, inf, inf, inf, inf]])"
      ]
     },
     "execution_count": 15,
     "metadata": {},
     "output_type": "execute_result"
    }
   ],
   "source": [
    "arr"
   ]
  },
  {
   "cell_type": "code",
   "execution_count": 49,
   "metadata": {},
   "outputs": [],
   "source": [
    "def advice(agents, n):\n",
    "\n",
    "    def find_dist(ag_coord, coord):\n",
    "        return np.abs(coord[0] - ag_coord[0]) + np.abs(coord[1] - ag_coord[1])\n",
    "    \n",
    "    arr = np.full((n,n), np.inf)\n",
    "    for agent in agents:\n",
    "        for i in range(n):\n",
    "            for j in range(n):\n",
    "                dist = find_dist( agent, (i, j) )\n",
    "                if arr[i,j] > dist:\n",
    "                    arr[i,j] = dist\n",
    "    \n",
    "    listi = listj = []\n",
    "    \n",
    "    try:\n",
    "        if arr.max() == 0:\n",
    "            return []\n",
    "        listi, listj = np.where(arr == arr.max())[0], np.where(arr == arr.max())[1]\n",
    "    except:\n",
    "        pass\n",
    "    answer = [z for z in zip(listi, listj)]\n",
    "    \n",
    "    return answer"
   ]
  },
  {
   "cell_type": "code",
   "execution_count": 50,
   "metadata": {},
   "outputs": [
    {
     "data": {
      "text/plain": [
       "[(0, 0)]"
      ]
     },
     "execution_count": 50,
     "metadata": {},
     "output_type": "execute_result"
    }
   ],
   "source": [
    "advice([(1, 1)], 2)"
   ]
  },
  {
   "cell_type": "code",
   "execution_count": 51,
   "metadata": {},
   "outputs": [
    {
     "data": {
      "text/plain": [
       "[]"
      ]
     },
     "execution_count": 51,
     "metadata": {},
     "output_type": "execute_result"
    }
   ],
   "source": [
    "advice([(1, 1)], 0)"
   ]
  },
  {
   "cell_type": "code",
   "execution_count": null,
   "metadata": {},
   "outputs": [],
   "source": [
    "def advice(agents, n):\n",
    "    frontier = { (x,y) for x,y in agents if 0 <= x < n and 0 <= y < n }\n",
    "    bag = { (x,y) for x in range(n) for y in range(n)}\n",
    "    if frontier == bag: return []\n",
    "    while frontier and bag>frontier:\n",
    "        bag -= frontier\n",
    "        frontier = {pos for x,y in frontier for pos in ((x+1,y),(x-1,y),(x,y+1),(x,y-1)) if pos in bag }\n",
    "    return sorted(bag)"
   ]
  },
  {
   "cell_type": "code",
   "execution_count": 75,
   "metadata": {},
   "outputs": [],
   "source": [
    "n = 2\n",
    "agents = [(1, 1)]\n",
    "\n",
    "frontier = { (x,y) for x,y in agents if 0 <= x < n and 0 <= y < n }\n",
    "bag = { (x,y) for x in range(n) for y in range(n)}"
   ]
  },
  {
   "cell_type": "code",
   "execution_count": 76,
   "metadata": {},
   "outputs": [
    {
     "data": {
      "text/plain": [
       "{(1, 1)}"
      ]
     },
     "execution_count": 76,
     "metadata": {},
     "output_type": "execute_result"
    }
   ],
   "source": [
    "frontier"
   ]
  },
  {
   "cell_type": "code",
   "execution_count": 77,
   "metadata": {},
   "outputs": [
    {
     "data": {
      "text/plain": [
       "{(0, 0), (0, 1), (1, 0), (1, 1)}"
      ]
     },
     "execution_count": 77,
     "metadata": {},
     "output_type": "execute_result"
    }
   ],
   "source": [
    "bag"
   ]
  },
  {
   "cell_type": "code",
   "execution_count": 78,
   "metadata": {},
   "outputs": [
    {
     "name": "stdout",
     "output_type": "stream",
     "text": [
      "{(0, 1), (1, 0)}\n",
      "{(0, 0)}\n"
     ]
    },
    {
     "data": {
      "text/plain": [
       "[(0, 0)]"
      ]
     },
     "execution_count": 78,
     "metadata": {},
     "output_type": "execute_result"
    }
   ],
   "source": [
    "while frontier and bag > frontier:\n",
    "    bag -= frontier\n",
    "    frontier = {pos for x,y in frontier for pos in ((x+1,y),(x-1,y),(x,y+1),(x,y-1)) if pos in bag }\n",
    "    print (frontier)\n",
    "sorted(bag)"
   ]
  },
  {
   "cell_type": "code",
   "execution_count": 63,
   "metadata": {},
   "outputs": [],
   "source": [
    "bag -= frontier"
   ]
  },
  {
   "cell_type": "code",
   "execution_count": null,
   "metadata": {},
   "outputs": [],
   "source": []
  }
 ],
 "metadata": {
  "kernelspec": {
   "display_name": "Python 3",
   "language": "python",
   "name": "python3"
  },
  "language_info": {
   "codemirror_mode": {
    "name": "ipython",
    "version": 3
   },
   "file_extension": ".py",
   "mimetype": "text/x-python",
   "name": "python",
   "nbconvert_exporter": "python",
   "pygments_lexer": "ipython3",
   "version": "3.7.6"
  }
 },
 "nbformat": 4,
 "nbformat_minor": 4
}
