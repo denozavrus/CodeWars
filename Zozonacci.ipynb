{
 "cells": [
  {
   "cell_type": "code",
   "execution_count": 15,
   "metadata": {},
   "outputs": [],
   "source": [
    "def zozonacci(pattern, length):\n",
    "    \n",
    "    beg1 = [0, 0, 0, 1]\n",
    "    beg2 = [0, 1, 0, 0]\n",
    "    res = []\n",
    "    \n",
    "    def fib (seq):\n",
    "        return seq[-1] + seq[-2]\n",
    "\n",
    "    def jac(seq):\n",
    "        return seq[-1] + 2 * seq[-2]\n",
    "\n",
    "    def pad(seq):\n",
    "        return seq[-2] + seq[-3]\n",
    "\n",
    "    def pel(seq):\n",
    "        return 2 * seq[-1] + seq[-2]\n",
    "\n",
    "    def tet(seq):\n",
    "        return seq[-1] + seq[-2] + seq[-3] + seq[-4]\n",
    "\n",
    "    def tri(seq):\n",
    "        return seq[-1] + seq[-2] + seq[-3]\n",
    "    \n",
    "    from itertools import cycle\n",
    "    \n",
    "    if length == 0 or pattern == []:\n",
    "        return []\n",
    "    \n",
    "    if pattern[0] == 'pad':\n",
    "        res = beg2\n",
    "    else:\n",
    "        res = beg1\n",
    "    \n",
    "    l = 4\n",
    "    for i in cycle(pattern):\n",
    "        if l >= length:\n",
    "            break\n",
    "\n",
    "        res.append (eval ('{}({})'.format(i, res)) )\n",
    "        l += 1\n",
    "    \n",
    "    return res[ : length]"
   ]
  },
  {
   "cell_type": "code",
   "execution_count": 16,
   "metadata": {},
   "outputs": [
    {
     "data": {
      "text/plain": [
       "[]"
      ]
     },
     "execution_count": 16,
     "metadata": {},
     "output_type": "execute_result"
    }
   ],
   "source": [
    "zozonacci([\"fib\"], 0)"
   ]
  },
  {
   "cell_type": "code",
   "execution_count": 17,
   "metadata": {},
   "outputs": [
    {
     "data": {
      "text/plain": [
       "[]"
      ]
     },
     "execution_count": 17,
     "metadata": {},
     "output_type": "execute_result"
    }
   ],
   "source": [
    "zozonacci([], 10)"
   ]
  },
  {
   "cell_type": "code",
   "execution_count": 18,
   "metadata": {},
   "outputs": [
    {
     "data": {
      "text/plain": [
       "[0, 0, 0, 1, 1, 2, 3, 5, 8, 13]"
      ]
     },
     "execution_count": 18,
     "metadata": {},
     "output_type": "execute_result"
    }
   ],
   "source": [
    "zozonacci([\"fib\"], 10)"
   ]
  },
  {
   "cell_type": "code",
   "execution_count": 19,
   "metadata": {},
   "outputs": [
    {
     "data": {
      "text/plain": [
       "[0, 0, 0, 1, 1, 2, 4, 7, 13, 24]"
      ]
     },
     "execution_count": 19,
     "metadata": {},
     "output_type": "execute_result"
    }
   ],
   "source": [
    "zozonacci([\"tri\"], 10)"
   ]
  },
  {
   "cell_type": "code",
   "execution_count": 20,
   "metadata": {},
   "outputs": [
    {
     "data": {
      "text/plain": [
       "[0, 1, 0, 0, 1, 0, 1, 1, 1, 2]"
      ]
     },
     "execution_count": 20,
     "metadata": {},
     "output_type": "execute_result"
    }
   ],
   "source": [
    "zozonacci([\"pad\"], 10)"
   ]
  },
  {
   "cell_type": "code",
   "execution_count": 21,
   "metadata": {},
   "outputs": [
    {
     "data": {
      "text/plain": [
       "[0, 0, 0, 1, 2, 5, 12, 29, 70, 169]"
      ]
     },
     "execution_count": 21,
     "metadata": {},
     "output_type": "execute_result"
    }
   ],
   "source": [
    "zozonacci([\"pel\"], 10)"
   ]
  },
  {
   "cell_type": "code",
   "execution_count": 22,
   "metadata": {},
   "outputs": [
    {
     "data": {
      "text/plain": [
       "[0, 0, 0, 1, 1, 3, 5, 11, 21, 43]"
      ]
     },
     "execution_count": 22,
     "metadata": {},
     "output_type": "execute_result"
    }
   ],
   "source": [
    "zozonacci([\"jac\"], 10)"
   ]
  },
  {
   "cell_type": "code",
   "execution_count": 23,
   "metadata": {},
   "outputs": [
    {
     "data": {
      "text/plain": [
       "True"
      ]
     },
     "execution_count": 23,
     "metadata": {},
     "output_type": "execute_result"
    }
   ],
   "source": [
    "zozonacci([\"tri\", \"fib\"], 10) == [0, 0, 0, 1, 1, 2, 4, 6, 12, 18]"
   ]
  },
  {
   "cell_type": "code",
   "execution_count": 24,
   "metadata": {},
   "outputs": [
    {
     "data": {
      "text/plain": [
       "True"
      ]
     },
     "execution_count": 24,
     "metadata": {},
     "output_type": "execute_result"
    }
   ],
   "source": [
    "zozonacci([\"fib\", \"tri\"], 10) == [0, 0, 0, 1, 1, 2, 3, 6, 9, 18]"
   ]
  },
  {
   "cell_type": "code",
   "execution_count": 25,
   "metadata": {},
   "outputs": [
    {
     "data": {
      "text/plain": [
       "True"
      ]
     },
     "execution_count": 25,
     "metadata": {},
     "output_type": "execute_result"
    }
   ],
   "source": [
    "zozonacci([\"pad\", \"fib\"], 10) == [0, 1, 0, 0, 1, 1, 1, 2, 2, 4]"
   ]
  },
  {
   "cell_type": "code",
   "execution_count": 26,
   "metadata": {},
   "outputs": [
    {
     "data": {
      "text/plain": [
       "True"
      ]
     },
     "execution_count": 26,
     "metadata": {},
     "output_type": "execute_result"
    }
   ],
   "source": [
    "zozonacci([\"tri\", \"tet\"], 10) == [0, 0, 0, 1, 1, 2, 4, 8, 14, 28]"
   ]
  },
  {
   "cell_type": "code",
   "execution_count": 27,
   "metadata": {},
   "outputs": [
    {
     "data": {
      "text/plain": [
       "True"
      ]
     },
     "execution_count": 27,
     "metadata": {},
     "output_type": "execute_result"
    }
   ],
   "source": [
    "zozonacci([\"fib\", \"pel\", \"tri\"], 10) == [0, 0, 0, 1, 1, 3, 5, 8, 21, 34]"
   ]
  },
  {
   "cell_type": "code",
   "execution_count": 28,
   "metadata": {},
   "outputs": [
    {
     "data": {
      "text/plain": [
       "True"
      ]
     },
     "execution_count": 28,
     "metadata": {},
     "output_type": "execute_result"
    }
   ],
   "source": [
    "zozonacci([\"tet\", \"jac\"], 10) == [0, 0, 0, 1, 1, 3, 5, 11, 20, 42]"
   ]
  },
  {
   "cell_type": "code",
   "execution_count": null,
   "metadata": {},
   "outputs": [],
   "source": []
  },
  {
   "cell_type": "code",
   "execution_count": null,
   "metadata": {},
   "outputs": [],
   "source": []
  }
 ],
 "metadata": {
  "kernelspec": {
   "display_name": "Python 3",
   "language": "python",
   "name": "python3"
  },
  "language_info": {
   "codemirror_mode": {
    "name": "ipython",
    "version": 3
   },
   "file_extension": ".py",
   "mimetype": "text/x-python",
   "name": "python",
   "nbconvert_exporter": "python",
   "pygments_lexer": "ipython3",
   "version": "3.7.6"
  }
 },
 "nbformat": 4,
 "nbformat_minor": 4
}
