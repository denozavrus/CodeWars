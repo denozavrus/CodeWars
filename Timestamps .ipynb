{
 "cells": [
  {
   "cell_type": "code",
   "execution_count": 77,
   "metadata": {},
   "outputs": [],
   "source": [
    "times = [\"21:14\", \"15:34\", \"14:51\", \"06:25\", \"15:30\"]"
   ]
  },
  {
   "cell_type": "code",
   "execution_count": 78,
   "metadata": {},
   "outputs": [
    {
     "name": "stdout",
     "output_type": "stream",
     "text": [
      "76440\n",
      "56040\n",
      "53460\n",
      "23100\n",
      "55800\n"
     ]
    }
   ],
   "source": [
    "Time_to_sec = lambda x: int(x.split(\":\")[0]) * 3600 + int(x.split(\":\")[1]) * 60 \n",
    "for t in times:\n",
    "    print ( Time_to_sec(t) )"
   ]
  },
  {
   "cell_type": "code",
   "execution_count": 79,
   "metadata": {},
   "outputs": [],
   "source": [
    "seconds = [Time_to_sec(second) for second in sorted(times, key = Time_to_sec)] "
   ]
  },
  {
   "cell_type": "code",
   "execution_count": 80,
   "metadata": {},
   "outputs": [
    {
     "data": {
      "text/plain": [
       "[23100, 53460, 55800, 56040, 76440]"
      ]
     },
     "execution_count": 80,
     "metadata": {},
     "output_type": "execute_result"
    }
   ],
   "source": [
    "seconds"
   ]
  },
  {
   "cell_type": "code",
   "execution_count": 81,
   "metadata": {},
   "outputs": [
    {
     "name": "stdout",
     "output_type": "stream",
     "text": [
      "9:10\n"
     ]
    }
   ],
   "source": [
    "max_stamp = 0\n",
    "for i in range(len(seconds) - 1):\n",
    "    stamp = (seconds[i+1] - seconds[i]) - 60\n",
    "    \n",
    "    if (stamp > max_stamp): \n",
    "        max_stamp = stamp\n",
    "\n",
    "final_stamp = seconds[0] + 24*60*60 - seconds[-1] - 60 \n",
    "if (final_stamp > max_stamp): \n",
    "    max_stamp = final_stamp\n",
    "\n",
    "print(Seconds_to_time(max_stamp))"
   ]
  },
  {
   "cell_type": "code",
   "execution_count": 82,
   "metadata": {},
   "outputs": [],
   "source": [
    "Seconds_to_time = lambda sec: \"{}:{}\".format( sec // 3600, sec // 60 - (sec // 3600 * 60) )"
   ]
  },
  {
   "cell_type": "code",
   "execution_count": 89,
   "metadata": {},
   "outputs": [],
   "source": [
    "def solve(arr):\n",
    "    # Some Lambdas to ease working with time\n",
    "    Time_to_sec = lambda x: int(x.split(\":\")[0]) * 3600 + int(x.split(\":\")[1]) * 60 \n",
    "    \n",
    "    Seconds_to_time = lambda sec: \"{}:{}\".format( \n",
    "        str(sec // 3600).zfill(2) , \n",
    "        str(sec // 60 - (sec // 3600 * 60)).zfill(2) )\n",
    "    \n",
    "    # Sort initial array by amount of seconds\n",
    "    seconds = [Time_to_sec(second) for second in sorted(arr, key = Time_to_sec)] \n",
    "    max_stamp = 0\n",
    "    \n",
    "    # Iterate throw array of seconds and get substractions of seconds\n",
    "    for i in range(len(seconds) - 1):\n",
    "        stamp = (seconds[i+1] - seconds[i]) - 60\n",
    "        \n",
    "    # Save the biggest seconds stamp \n",
    "        if (stamp > max_stamp): \n",
    "            max_stamp = stamp\n",
    "            \n",
    "    # One final stamp will be between our last timeseries and first series of next day\n",
    "    final_stamp = seconds[0] + 24*60*60 - seconds[-1] - 60 \n",
    "    if (final_stamp > max_stamp): \n",
    "        max_stamp = final_stamp\n",
    "        \n",
    "    # Return maximum of found seconds stamp converted to minutes:seconds format\n",
    "    return Seconds_to_time (max_stamp)"
   ]
  },
  {
   "cell_type": "code",
   "execution_count": 92,
   "metadata": {},
   "outputs": [
    {
     "data": {
      "text/plain": [
       "'09:10'"
      ]
     },
     "execution_count": 92,
     "metadata": {},
     "output_type": "execute_result"
    }
   ],
   "source": [
    "solve([\"21:14\", \"15:34\", \"14:51\", \"06:25\", \"15:30\"])"
   ]
  },
  {
   "cell_type": "code",
   "execution_count": 93,
   "metadata": {},
   "outputs": [],
   "source": [
    "def solve(arr):\n",
    "    arr = sorted(int(m[:2]) * 60 + int(m[3:]) for m in set(arr))\n",
    "    arr += [arr[0] + 1440]\n",
    "    h, m = divmod(max(arr[i + 1] - arr[i] - 1 for i in range(len(arr) - 1)), 60)\n",
    "    return \"{:02}:{:02}\".format(h, m)"
   ]
  }
 ],
 "metadata": {
  "kernelspec": {
   "display_name": "Python 3",
   "language": "python",
   "name": "python3"
  },
  "language_info": {
   "codemirror_mode": {
    "name": "ipython",
    "version": 3
   },
   "file_extension": ".py",
   "mimetype": "text/x-python",
   "name": "python",
   "nbconvert_exporter": "python",
   "pygments_lexer": "ipython3",
   "version": "3.7.6"
  }
 },
 "nbformat": 4,
 "nbformat_minor": 4
}
