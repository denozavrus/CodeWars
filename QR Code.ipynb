{
 "cells": [
  {
   "cell_type": "code",
   "execution_count": 1,
   "metadata": {},
   "outputs": [],
   "source": [
    "import cv2 \n",
    "import numpy as np"
   ]
  },
  {
   "cell_type": "code",
   "execution_count": 52,
   "metadata": {},
   "outputs": [],
   "source": [
    "qrcode = [[ 1, 1, 1, 1, 1, 1, 1, 0, 1, 1, 1, 0, 1, 0, 1, 1, 1, 1, 1, 1, 1 ],\n",
    "          [ 1, 0, 0, 0, 0, 0, 1, 0, 0, 0, 0, 1, 1, 0, 1, 0, 0, 0, 0, 0, 1 ],\n",
    "          [ 1, 0, 1, 1, 1, 0, 1, 0, 0, 0, 0, 0, 1, 0, 1, 0, 1, 1, 1, 0, 1 ],\n",
    "          [ 1, 0, 1, 1, 1, 0, 1, 0, 1, 0, 0, 0, 1, 0, 1, 0, 1, 1, 1, 0, 1 ],\n",
    "          [ 1, 0, 1, 1, 1, 0, 1, 0, 0, 1, 0, 0, 1, 0, 1, 0, 1, 1, 1, 0, 1 ],\n",
    "          [ 1, 0, 0, 0, 0, 0, 1, 0, 0, 0, 0, 0, 1, 0, 1, 0, 0, 0, 0, 0, 1 ],\n",
    "          [ 1, 1, 1, 1, 1, 1, 1, 0, 1, 0, 1, 0, 1, 0, 1, 1, 1, 1, 1, 1, 1 ],\n",
    "          [ 0, 0, 0, 0, 0, 0, 0, 0, 0, 1, 0, 1, 0, 0, 0, 0, 0, 0, 0, 0, 0 ],\n",
    "          [ 0, 0, 1, 0, 1, 1, 1, 0, 1, 0, 0, 1, 1, 1, 0, 0, 0, 1, 0, 0, 1 ],\n",
    "          [ 0, 1, 0, 0, 1, 1, 0, 0, 0, 0, 0, 1, 1, 1, 1, 0, 0, 0, 0, 1, 1 ],\n",
    "          [ 0, 0, 1, 1, 0, 0, 1, 0, 0, 0, 0, 1, 0, 1, 0, 0, 1, 1, 1, 1, 1 ],\n",
    "          [ 0, 0, 1, 0, 0, 0, 0, 1, 1, 0, 1, 1, 0, 1, 0, 0, 0, 0, 0, 1, 0 ],\n",
    "          [ 1, 0, 1, 0, 1, 0, 1, 1, 1, 1, 0, 1, 0, 1, 0, 0, 1, 0, 0, 0, 0 ],\n",
    "          [ 0, 0, 0, 0, 0, 0, 0, 0, 1, 0, 1, 1, 0, 0, 1, 1, 0, 0, 1, 1, 0 ],\n",
    "          [ 1, 1, 1, 1, 1, 1, 1, 0, 0, 1, 0, 0, 0, 1, 0, 1, 0, 0, 1, 1, 1 ],\n",
    "          [ 1, 0, 0, 0, 0, 0, 1, 0, 1, 1, 0, 0, 0, 0, 1, 1, 1, 0, 0, 0, 0 ],\n",
    "          [ 1, 0, 1, 1, 1, 0, 1, 0, 1, 0, 1, 0, 1, 1, 0, 1, 0, 0, 0, 1, 1 ],\n",
    "          [ 1, 0, 1, 1, 1, 0, 1, 0, 0, 0, 1, 1, 1, 0, 0, 1, 0, 0, 1, 1, 0 ],\n",
    "          [ 1, 0, 1, 1, 1, 0, 1, 0, 1, 1, 1, 1, 0, 1, 1, 0, 1, 0, 1, 0, 1 ],\n",
    "          [ 1, 0, 0, 0, 0, 0, 1, 0, 0, 1, 1, 0, 0, 0, 0, 0, 1, 0, 0, 1, 0 ],\n",
    "          [ 1, 1, 1, 1, 1, 1, 1, 0, 0, 1, 1, 1, 1, 1, 0, 1, 0, 0, 0, 1, 1 ]]"
   ]
  },
  {
   "cell_type": "code",
   "execution_count": 66,
   "metadata": {},
   "outputs": [],
   "source": [
    "import qrcode\n",
    "# example data\n",
    "data = \"Ллллл\"\n",
    "# output file name\n",
    "filename = \"site.png\"\n",
    "# generate qr code\n",
    "img = qrcode.make(data)\n",
    "# save img to a file\n",
    "img.save(filename)"
   ]
  },
  {
   "cell_type": "code",
   "execution_count": 67,
   "metadata": {},
   "outputs": [],
   "source": [
    "img = cv2.imread(\"site.png\")"
   ]
  },
  {
   "cell_type": "code",
   "execution_count": 68,
   "metadata": {},
   "outputs": [
    {
     "data": {
      "text/plain": [
       "(290, 290, 3)"
      ]
     },
     "execution_count": 68,
     "metadata": {},
     "output_type": "execute_result"
    }
   ],
   "source": [
    "img.shape"
   ]
  },
  {
   "cell_type": "code",
   "execution_count": 69,
   "metadata": {},
   "outputs": [],
   "source": [
    "detector = cv2.QRCodeDetector()"
   ]
  },
  {
   "cell_type": "code",
   "execution_count": 70,
   "metadata": {},
   "outputs": [],
   "source": [
    "data, bbox, straight_qrcode = detector.detectAndDecode(img)"
   ]
  },
  {
   "cell_type": "code",
   "execution_count": 71,
   "metadata": {},
   "outputs": [
    {
     "data": {
      "text/plain": [
       "'Ллллл'"
      ]
     },
     "execution_count": 71,
     "metadata": {},
     "output_type": "execute_result"
    }
   ],
   "source": [
    "data"
   ]
  },
  {
   "cell_type": "code",
   "execution_count": 72,
   "metadata": {},
   "outputs": [
    {
     "data": {
      "text/plain": [
       "array([[[ 40.,  40.]],\n",
       "\n",
       "       [[249.,  40.]],\n",
       "\n",
       "       [[249., 249.]],\n",
       "\n",
       "       [[ 40., 249.]]], dtype=float32)"
      ]
     },
     "execution_count": 72,
     "metadata": {},
     "output_type": "execute_result"
    }
   ],
   "source": [
    "bbox"
   ]
  },
  {
   "cell_type": "code",
   "execution_count": 73,
   "metadata": {},
   "outputs": [
    {
     "name": "stdout",
     "output_type": "stream",
     "text": [
      "QRCode data:\n",
      "Ллллл\n"
     ]
    }
   ],
   "source": [
    "if bbox is not None:\n",
    "    print(f\"QRCode data:\\n{data}\")\n",
    "    # display the image with lines\n",
    "    # length of bounding box\n",
    "    n_lines = len(bbox)\n",
    "    for i in range(n_lines):\n",
    "        # draw all lines\n",
    "        point1 = tuple(bbox[i][0])\n",
    "        point2 = tuple(bbox[(i+1) % n_lines][0])\n",
    "        cv2.line(img, point1, point2, color=(255, 0, 0), thickness=2)"
   ]
  },
  {
   "cell_type": "code",
   "execution_count": 74,
   "metadata": {},
   "outputs": [],
   "source": [
    "cv2.imshow(\"img\", img)\n",
    "cv2.waitKey(0)\n",
    "cv2.destroyAllWindows()"
   ]
  },
  {
   "cell_type": "code",
   "execution_count": null,
   "metadata": {},
   "outputs": [],
   "source": []
  },
  {
   "cell_type": "code",
   "execution_count": 3,
   "metadata": {},
   "outputs": [],
   "source": [
    "arr = []\n",
    "bit_seq = []\n",
    "for i in range (21):\n",
    "    bit_seq = []\n",
    "    for j in range (21):\n",
    "        if (i + j) % 2 == 0:\n",
    "            element = int (not qrcode[i][j])\n",
    "        else:\n",
    "            element = qrcode[i][j]\n",
    "        \n",
    "        bit_seq.append(element)\n",
    "    \n",
    "    arr.append(bit_seq)"
   ]
  },
  {
   "cell_type": "code",
   "execution_count": 4,
   "metadata": {},
   "outputs": [
    {
     "data": {
      "text/plain": [
       "array([[0, 1, 0, 1, 0, 1, 0, 0, 0, 1, 0, 0, 0, 0, 0, 1, 0, 1, 0, 1, 0],\n",
       "       [1, 1, 0, 1, 0, 1, 1, 1, 0, 1, 0, 0, 1, 1, 1, 1, 0, 1, 0, 1, 1],\n",
       "       [0, 0, 0, 1, 0, 0, 0, 0, 1, 0, 1, 0, 0, 0, 0, 0, 0, 1, 0, 0, 0],\n",
       "       [1, 1, 1, 0, 1, 1, 1, 1, 1, 1, 0, 1, 1, 1, 1, 1, 1, 0, 1, 1, 1],\n",
       "       [0, 0, 0, 1, 0, 0, 0, 0, 1, 1, 1, 0, 0, 0, 0, 0, 0, 1, 0, 0, 0],\n",
       "       [1, 1, 0, 1, 0, 1, 1, 1, 0, 1, 0, 1, 1, 1, 1, 1, 0, 1, 0, 1, 1],\n",
       "       [0, 1, 0, 1, 0, 1, 0, 0, 0, 0, 0, 0, 0, 0, 0, 1, 0, 1, 0, 1, 0],\n",
       "       [0, 1, 0, 1, 0, 1, 0, 1, 0, 0, 0, 0, 0, 1, 0, 1, 0, 1, 0, 1, 0],\n",
       "       [1, 0, 0, 0, 0, 1, 0, 0, 0, 0, 1, 1, 0, 1, 1, 0, 1, 1, 1, 0, 0],\n",
       "       [0, 0, 0, 1, 1, 0, 0, 1, 0, 1, 0, 0, 1, 0, 1, 1, 0, 1, 0, 0, 1],\n",
       "       [1, 0, 0, 1, 1, 0, 0, 0, 1, 0, 1, 1, 1, 1, 1, 0, 0, 1, 0, 1, 0],\n",
       "       [0, 1, 1, 1, 0, 1, 0, 0, 1, 1, 1, 0, 0, 0, 0, 1, 0, 1, 0, 0, 0],\n",
       "       [0, 0, 0, 0, 0, 0, 0, 1, 0, 1, 1, 1, 1, 1, 1, 0, 0, 0, 1, 0, 1],\n",
       "       [0, 1, 0, 1, 0, 1, 0, 1, 1, 1, 1, 0, 0, 1, 1, 0, 0, 1, 1, 0, 0],\n",
       "       [0, 1, 0, 1, 0, 1, 0, 0, 1, 1, 1, 0, 1, 1, 1, 1, 1, 0, 0, 1, 0],\n",
       "       [1, 1, 0, 1, 0, 1, 1, 1, 1, 0, 0, 1, 0, 1, 1, 0, 1, 1, 0, 1, 0],\n",
       "       [0, 0, 0, 1, 0, 0, 0, 0, 0, 0, 0, 0, 0, 1, 1, 1, 1, 0, 1, 1, 0],\n",
       "       [1, 1, 1, 0, 1, 1, 1, 1, 0, 1, 1, 0, 1, 1, 0, 0, 0, 1, 1, 0, 0],\n",
       "       [0, 0, 0, 1, 0, 0, 0, 0, 0, 1, 0, 1, 1, 1, 0, 0, 0, 0, 0, 0, 0],\n",
       "       [1, 1, 0, 1, 0, 1, 1, 1, 0, 0, 1, 1, 0, 1, 0, 1, 1, 1, 0, 0, 0],\n",
       "       [0, 1, 0, 1, 0, 1, 0, 0, 1, 1, 0, 1, 0, 1, 1, 1, 1, 0, 1, 1, 0]])"
      ]
     },
     "execution_count": 4,
     "metadata": {},
     "output_type": "execute_result"
    }
   ],
   "source": [
    "arr = np.array(arr)\n",
    "arr"
   ]
  },
  {
   "cell_type": "code",
   "execution_count": 5,
   "metadata": {},
   "outputs": [],
   "source": [
    "right_part = np.array([[0, 1, 1, 0, 1, 0, 0, 1],\n",
    "       [1, 1, 0, 0, 1, 0, 1, 0],\n",
    "       [0, 0, 1, 0, 1, 0, 0, 0],\n",
    "       [1, 1, 0, 0, 0, 1, 0, 1],\n",
    "       [1, 1, 0, 0, 1, 1, 0, 0],\n",
    "       [1, 1, 1, 1, 0, 0, 1, 0],\n",
    "       [1, 1, 0, 1, 1, 0, 1, 0],\n",
    "       [1, 1, 1, 1, 0, 1, 1, 0],\n",
    "       [1, 0, 0, 0, 1, 1, 0, 0],\n",
    "       [1, 0, 0, 0, 0, 0, 0, 0],\n",
    "       [1, 0, 1, 1, 1, 0, 0, 0],\n",
    "       [1, 1, 1, 1, 0, 1, 1, 0]])"
   ]
  },
  {
   "cell_type": "code",
   "execution_count": 47,
   "metadata": {},
   "outputs": [],
   "source": [
    "right_part = arr[-12 : , -8 : ]"
   ]
  },
  {
   "cell_type": "code",
   "execution_count": 48,
   "metadata": {},
   "outputs": [
    {
     "data": {
      "text/plain": [
       "array([[0, 1, 1, 0, 1, 0, 0, 1],\n",
       "       [1, 1, 0, 0, 1, 0, 1, 0],\n",
       "       [0, 0, 1, 0, 1, 0, 0, 0],\n",
       "       [1, 1, 0, 0, 0, 1, 0, 1],\n",
       "       [1, 1, 0, 0, 1, 1, 0, 0],\n",
       "       [1, 1, 1, 1, 0, 0, 1, 0],\n",
       "       [1, 1, 0, 1, 1, 0, 1, 0],\n",
       "       [1, 1, 1, 1, 0, 1, 1, 0],\n",
       "       [1, 0, 0, 0, 1, 1, 0, 0],\n",
       "       [1, 0, 0, 0, 0, 0, 0, 0],\n",
       "       [1, 0, 1, 1, 1, 0, 0, 0],\n",
       "       [1, 1, 1, 1, 0, 1, 1, 0]])"
      ]
     },
     "execution_count": 48,
     "metadata": {},
     "output_type": "execute_result"
    }
   ],
   "source": [
    "right_part"
   ]
  },
  {
   "cell_type": "code",
   "execution_count": 6,
   "metadata": {},
   "outputs": [],
   "source": [
    "left_part = np.vstack( (arr[0 : 6, 9 : 13], arr[7 : , 9 : 13]) ) "
   ]
  },
  {
   "cell_type": "code",
   "execution_count": 7,
   "metadata": {},
   "outputs": [
    {
     "data": {
      "text/plain": [
       "(20, 4)"
      ]
     },
     "execution_count": 7,
     "metadata": {},
     "output_type": "execute_result"
    }
   ],
   "source": [
    "left_part.shape"
   ]
  },
  {
   "cell_type": "code",
   "execution_count": 8,
   "metadata": {},
   "outputs": [
    {
     "data": {
      "text/plain": [
       "array([[1, 0, 0, 0],\n",
       "       [1, 0, 0, 1],\n",
       "       [0, 1, 0, 0],\n",
       "       [1, 0, 1, 1],\n",
       "       [1, 1, 0, 0],\n",
       "       [1, 0, 1, 1],\n",
       "       [0, 0, 0, 0],\n",
       "       [0, 1, 1, 0],\n",
       "       [1, 0, 0, 1],\n",
       "       [0, 1, 1, 1],\n",
       "       [1, 1, 0, 0],\n",
       "       [1, 1, 1, 1],\n",
       "       [1, 1, 0, 0],\n",
       "       [1, 1, 0, 1],\n",
       "       [0, 0, 1, 0],\n",
       "       [0, 0, 0, 0],\n",
       "       [1, 1, 0, 1],\n",
       "       [1, 0, 1, 1],\n",
       "       [0, 1, 1, 0],\n",
       "       [1, 0, 1, 0]])"
      ]
     },
     "execution_count": 8,
     "metadata": {},
     "output_type": "execute_result"
    }
   ],
   "source": [
    "left_part"
   ]
  },
  {
   "cell_type": "code",
   "execution_count": 9,
   "metadata": {},
   "outputs": [
    {
     "data": {
      "text/plain": [
       "array([[0, 0, 0, 1, 1, 0, 1, 0],\n",
       "       [1, 0, 0, 1, 1, 0, 0, 1],\n",
       "       [0, 1, 1, 1, 0, 1, 0, 1],\n",
       "       [0, 0, 0, 0, 0, 0, 1, 0]])"
      ]
     },
     "execution_count": 9,
     "metadata": {},
     "output_type": "execute_result"
    }
   ],
   "source": [
    "last_part = np.hstack( (arr[9 : 13, 0 : 6], arr[9 : 13, 7 : 9 ]) )\n",
    "last_part"
   ]
  },
  {
   "cell_type": "code",
   "execution_count": 10,
   "metadata": {},
   "outputs": [
    {
     "data": {
      "text/plain": [
       "array([[0, 1, 1, 0, 1, 0, 0, 1],\n",
       "       [1, 1, 0, 0, 1, 0, 1, 0],\n",
       "       [0, 0, 1, 0, 1, 0, 0, 0],\n",
       "       [1, 1, 0, 0, 0, 1, 0, 1],\n",
       "       [1, 1, 0, 0, 1, 1, 0, 0],\n",
       "       [1, 1, 1, 1, 0, 0, 1, 0],\n",
       "       [1, 1, 0, 1, 1, 0, 1, 0],\n",
       "       [1, 1, 1, 1, 0, 1, 1, 0],\n",
       "       [1, 0, 0, 0, 1, 1, 0, 0],\n",
       "       [1, 0, 0, 0, 0, 0, 0, 0],\n",
       "       [1, 0, 1, 1, 1, 0, 0, 0],\n",
       "       [1, 1, 1, 1, 0, 1, 1, 0]])"
      ]
     },
     "execution_count": 10,
     "metadata": {},
     "output_type": "execute_result"
    }
   ],
   "source": [
    "right_part"
   ]
  },
  {
   "cell_type": "code",
   "execution_count": 11,
   "metadata": {},
   "outputs": [],
   "source": [
    "def extract_up(arr):\n",
    "    bit_seq = ''\n",
    "    for i in range (arr.shape[0] - 1, -1, -1):\n",
    "        bit_seq += str (arr[i, 1])\n",
    "        bit_seq += str (arr[i, 0])\n",
    "    return bit_seq"
   ]
  },
  {
   "cell_type": "code",
   "execution_count": 12,
   "metadata": {},
   "outputs": [],
   "source": [
    "def extract_down(arr):\n",
    "    bit_seq = ''\n",
    "    for i in range (0, arr.shape[0], 1):\n",
    "        bit_seq += str (arr[i, 1])\n",
    "        bit_seq += str (arr[i, 0])\n",
    "    return bit_seq"
   ]
  },
  {
   "cell_type": "code",
   "execution_count": 13,
   "metadata": {},
   "outputs": [],
   "source": [
    "def extract_hor(arr):\n",
    "    bit_seq = ''\n",
    "    left = arr[: , :2]\n",
    "    right = arr[: , 2:4]\n",
    "    bit_seq += extract_up(right)\n",
    "    bit_seq += extract_down(left)\n",
    "    return bit_seq"
   ]
  },
  {
   "cell_type": "code",
   "execution_count": 14,
   "metadata": {},
   "outputs": [],
   "source": [
    "def extract_hor_inv(arr):\n",
    "    bit_seq = ''\n",
    "    left = arr[: , :2]\n",
    "    right = arr[: , 2:4]\n",
    "    bit_seq += extract_down(right)\n",
    "    bit_seq += extract_up(left)\n",
    "    return bit_seq"
   ]
  },
  {
   "cell_type": "code",
   "execution_count": 92,
   "metadata": {},
   "outputs": [
    {
     "data": {
      "text/plain": [
       "array([[1, 1, 0, 0, 0, 0, 0, 1],\n",
       "       [1, 0, 0, 0, 1, 0, 1, 0],\n",
       "       [0, 0, 0, 1, 1, 0, 1, 1],\n",
       "       [1, 1, 0, 0, 1, 1, 1, 0],\n",
       "       [0, 1, 1, 1, 0, 0, 1, 0],\n",
       "       [1, 1, 1, 0, 0, 1, 1, 0],\n",
       "       [0, 0, 1, 1, 1, 0, 1, 1],\n",
       "       [1, 0, 1, 1, 1, 1, 1, 0],\n",
       "       [0, 1, 0, 1, 0, 0, 0, 0],\n",
       "       [0, 0, 1, 0, 0, 1, 0, 0],\n",
       "       [1, 1, 1, 0, 1, 0, 0, 0],\n",
       "       [1, 0, 0, 1, 0, 1, 1, 0]])"
      ]
     },
     "execution_count": 92,
     "metadata": {},
     "output_type": "execute_result"
    }
   ],
   "source": [
    "right_part"
   ]
  },
  {
   "cell_type": "code",
   "execution_count": 91,
   "metadata": {},
   "outputs": [
    {
     "data": {
      "text/plain": [
       "array([[1, 1],\n",
       "       [1, 0],\n",
       "       [0, 0],\n",
       "       [0, 0]])"
      ]
     },
     "execution_count": 91,
     "metadata": {},
     "output_type": "execute_result"
    }
   ],
   "source": [
    "right_part [6 : 10, -2 :]"
   ]
  },
  {
   "cell_type": "code",
   "execution_count": 29,
   "metadata": {},
   "outputs": [
    {
     "data": {
      "text/plain": [
       "array([[0, 1, 1, 0],\n",
       "       [1, 1, 0, 0]])"
      ]
     },
     "execution_count": 29,
     "metadata": {},
     "output_type": "execute_result"
    }
   ],
   "source": [
    "right_part [ : 2,  : 4]"
   ]
  },
  {
   "cell_type": "code",
   "execution_count": 83,
   "metadata": {},
   "outputs": [],
   "source": [
    "def text_from_bits(bits, encoding='utf-8', errors='surrogatepass'):\n",
    "    n = int(bits, 2)\n",
    "    return n.to_bytes((n.bit_length() + 7) // 8, 'big').decode(encoding, errors)"
   ]
  },
  {
   "cell_type": "code",
   "execution_count": 88,
   "metadata": {},
   "outputs": [],
   "source": [
    "qrcode = [  [ 1, 1, 1, 1, 1, 1, 1, 0, 1, 0, 1, 1, 0, 0, 1, 1, 1, 1, 1, 1, 1 ],\n",
    "                                      [ 1, 0, 0, 0, 0, 0, 1, 0, 0, 0, 1, 0, 0, 0, 1, 0, 0, 0, 0, 0, 1 ],\n",
    "                                      [ 1, 0, 1, 1, 1, 0, 1, 0, 0, 1, 0, 0, 0, 0, 1, 0, 1, 1, 1, 0, 1 ],\n",
    "                                      [ 1, 0, 1, 1, 1, 0, 1, 0, 1, 0, 0, 0, 1, 0, 1, 0, 1, 1, 1, 0, 1 ],\n",
    "                                      [ 1, 0, 1, 1, 1, 0, 1, 0, 0, 0, 1, 0, 1, 0, 1, 0, 1, 1, 1, 0, 1 ],\n",
    "                                      [ 1, 0, 0, 0, 0, 0, 1, 0, 0, 1, 1, 1, 1, 0, 1, 0, 0, 0, 0, 0, 1 ],\n",
    "                                      [ 1, 1, 1, 1, 1, 1, 1, 0, 1, 0, 1, 0, 1, 0, 1, 1, 1, 1, 1, 1, 1 ],\n",
    "                                      [ 0, 0, 0, 0, 0, 0, 0, 0, 0, 1, 1, 1, 1, 0, 0, 0, 0, 0, 0, 0, 0 ],\n",
    "                                      [ 0, 0, 1, 0, 1, 1, 1, 0, 1, 0, 1, 1, 1, 1, 0, 0, 0, 1, 0, 0, 1 ],\n",
    "                                      [ 1, 0, 1, 1, 1, 1, 0, 1, 1, 0, 0, 1, 0, 0, 1, 1, 0, 1, 0, 1, 1 ],\n",
    "                                      [ 1, 0, 1, 0, 1, 0, 1, 1, 1, 0, 1, 1, 1, 1, 1, 0, 1, 1, 1, 1, 1 ],\n",
    "                                      [ 1, 0, 0, 1, 1, 0, 0, 0, 0, 0, 1, 0, 1, 1, 0, 1, 1, 0, 0, 0, 1 ],\n",
    "                                      [ 0, 1, 0, 0, 0, 0, 1, 1, 0, 0, 0, 1, 1, 1, 0, 0, 1, 1, 0, 1, 1 ],\n",
    "                                      [ 0, 0, 0, 0, 0, 0, 0, 0, 1, 1, 1, 1, 1, 1, 1, 0, 1, 1, 0, 0, 0 ],\n",
    "                                      [ 1, 1, 1, 1, 1, 1, 1, 0, 0, 1, 1, 0, 1, 1, 0, 1, 1, 0, 0, 1, 1 ],\n",
    "                                      [ 1, 0, 0, 0, 0, 0, 1, 0, 1, 0, 0, 0, 0, 1, 0, 0, 1, 0, 0, 0, 1 ],\n",
    "                                      [ 1, 0, 1, 1, 1, 0, 1, 0, 1, 1, 1, 1, 1, 1, 1, 1, 0, 1, 0, 1, 1 ],\n",
    "                                      [ 1, 0, 1, 1, 1, 0, 1, 0, 0, 0, 1, 1, 1, 1, 1, 1, 1, 1, 0, 1, 0 ],\n",
    "                                      [ 1, 0, 1, 1, 1, 0, 1, 0, 1, 1, 1, 0, 1, 0, 1, 1, 1, 0, 0, 0, 1 ],\n",
    "                                      [ 1, 0, 0, 0, 0, 0, 1, 0, 0, 1, 1, 0, 0, 0, 1, 0, 0, 0, 0, 1, 0 ],\n",
    "                                      [ 1, 1, 1, 1, 1, 1, 1, 0, 0, 1, 0, 1, 1, 1, 1, 0, 0, 0, 0, 1, 1 ]]"
   ]
  },
  {
   "cell_type": "code",
   "execution_count": 95,
   "metadata": {},
   "outputs": [
    {
     "data": {
      "text/plain": [
       "'Warrior'"
      ]
     },
     "execution_count": 95,
     "metadata": {},
     "output_type": "execute_result"
    }
   ],
   "source": [
    "\n",
    "    import numpy as np\n",
    "\n",
    "    def extract_up(arr):\n",
    "        bit_seq = ''\n",
    "        for i in range (arr.shape[0] - 1, -1, -1):\n",
    "            bit_seq += str (arr[i, 1])\n",
    "            bit_seq += str (arr[i, 0])\n",
    "        return bit_seq\n",
    "\n",
    "    def extract_down(arr):\n",
    "        bit_seq = ''\n",
    "        for i in range (0, arr.shape[0], 1):\n",
    "            bit_seq += str (arr[i, 1])\n",
    "            bit_seq += str (arr[i, 0])\n",
    "        return bit_seq\n",
    "\n",
    "    def extract_hor(arr):\n",
    "        bit_seq = ''\n",
    "        left = arr[: , :2]\n",
    "        right = arr[: , 2:4]\n",
    "        bit_seq += extract_up(right)\n",
    "        bit_seq += extract_down(left)\n",
    "        return bit_seq\n",
    "\n",
    "    def extract_hor_inv(arr):\n",
    "        bit_seq = ''\n",
    "        left = arr[: , :2]\n",
    "        right = arr[: , 2:4]\n",
    "        bit_seq += extract_down(right)\n",
    "        bit_seq += extract_up(left)\n",
    "        return bit_seq\n",
    "\n",
    "    def text_from_bits(bits, encoding='utf-8', errors='surrogatepass'):\n",
    "        n = int(bits, 2)\n",
    "        return n.to_bytes((n.bit_length() + 7) // 8, 'big').decode(encoding, errors)\n",
    "\n",
    "    def decode (right_part):\n",
    "        letters = ''\n",
    "        counter = 0\n",
    "        seq_length = int( extract_up(right_part [6 : 10, -2 :]), 2)\n",
    "\n",
    "\n",
    "        first_letter = extract_up (right_part [2 : 6, -2 : ])\n",
    "        try:\n",
    "            first_letter = text_from_bits (first_letter)\n",
    "            letters += first_letter\n",
    "            counter += 1\n",
    "        except:\n",
    "            return letters[: -1]\n",
    "\n",
    "        second_letter = extract_hor (right_part [ : 2, -4 : ])\n",
    "        try:\n",
    "            second_letter = text_from_bits (second_letter)\n",
    "            letters += second_letter\n",
    "            counter += 1\n",
    "        except:\n",
    "            return letters[:-1]\n",
    "\n",
    "        third_letter = extract_down (right_part [2 : 6, -4 : -2])\n",
    "        try:\n",
    "            third_letter = text_from_bits (third_letter)\n",
    "            letters += third_letter\n",
    "            counter += 1\n",
    "        except:\n",
    "            return letters[:-1]\n",
    "\n",
    "        fourth_letter = extract_down(right_part [-6 :-2, 4 : 6])\n",
    "        try:\n",
    "            fourth_letter = text_from_bits (fourth_letter)\n",
    "            letters += fourth_letter\n",
    "            counter += 1\n",
    "        except:\n",
    "            return letters[:-1]\n",
    "\n",
    "        fifth_letter = extract_hor_inv (right_part [ -2 : , 2 : 6])\n",
    "        try:\n",
    "            fifth_letter = text_from_bits (fifth_letter)\n",
    "            letters += fifth_letter\n",
    "            counter += 1\n",
    "        except:\n",
    "            return letters[:-1]\n",
    "\n",
    "        sixth_letter = extract_up (right_part [-6 : -2, 2 : 4])\n",
    "        try:\n",
    "            sixth_letter = text_from_bits(sixth_letter)\n",
    "            letters += sixth_letter\n",
    "            counter += 1\n",
    "        except:\n",
    "            return letters[:-1]\n",
    "\n",
    "        seventh_letter = extract_up (right_part [2 : 6, 2 : 4])\n",
    "        try:\n",
    "            seventh_letter = text_from_bits(seventh_letter)\n",
    "            letters += seventh_letter\n",
    "            counter += 1\n",
    "        except:\n",
    "            return letters[:-1]\n",
    "\n",
    "        try:\n",
    "            if counter == seq_length:\n",
    "                return letters\n",
    "            else: \n",
    "                eighth_letter = extract_hor (right_part [ : 2,  : 4])\n",
    "                eighth_letter = text_from_bits(eighth_letter)\n",
    "                letters += eighth_letter\n",
    "                return letters\n",
    "        except:\n",
    "            return letters[:-1]\n",
    "\n",
    "    arr = []\n",
    "    bit_seq = []\n",
    "    for i in range (21):\n",
    "        bit_seq = []\n",
    "        for j in range (21):\n",
    "            if (i + j) % 2 == 0:\n",
    "                element = int (not qrcode[i][j])\n",
    "            else:\n",
    "                element = qrcode[i][j]\n",
    "\n",
    "            bit_seq.append(element)\n",
    "\n",
    "        arr.append(bit_seq)\n",
    "\n",
    "    arr = np.array(arr)    \n",
    "    right_part = arr[-12 : , -8 : ]\n",
    "\n",
    "    decode(right_part)"
   ]
  },
  {
   "cell_type": "code",
   "execution_count": 20,
   "metadata": {},
   "outputs": [
    {
     "data": {
      "text/plain": [
       "array([[0, 1, 0, 1, 0, 1, 0, 0, 0, 1, 0, 0, 0, 0, 0, 1, 0, 1, 0, 1, 0],\n",
       "       [1, 1, 0, 1, 0, 1, 1, 1, 0, 1, 0, 0, 1, 1, 1, 1, 0, 1, 0, 1, 1],\n",
       "       [0, 0, 0, 1, 0, 0, 0, 0, 1, 0, 1, 0, 0, 0, 0, 0, 0, 1, 0, 0, 0],\n",
       "       [1, 1, 1, 0, 1, 1, 1, 1, 1, 1, 0, 1, 1, 1, 1, 1, 1, 0, 1, 1, 1],\n",
       "       [0, 0, 0, 1, 0, 0, 0, 0, 1, 1, 1, 0, 0, 0, 0, 0, 0, 1, 0, 0, 0],\n",
       "       [1, 1, 0, 1, 0, 1, 1, 1, 0, 1, 0, 1, 1, 1, 1, 1, 0, 1, 0, 1, 1],\n",
       "       [0, 1, 0, 1, 0, 1, 0, 0, 0, 0, 0, 0, 0, 0, 0, 1, 0, 1, 0, 1, 0],\n",
       "       [0, 1, 0, 1, 0, 1, 0, 1, 0, 0, 0, 0, 0, 1, 0, 1, 0, 1, 0, 1, 0],\n",
       "       [1, 0, 0, 0, 0, 1, 0, 0, 0, 0, 1, 1, 0, 1, 1, 0, 1, 1, 1, 0, 0],\n",
       "       [0, 0, 0, 1, 1, 0, 0, 1, 0, 1, 0, 0, 1, 0, 1, 1, 0, 1, 0, 0, 1],\n",
       "       [1, 0, 0, 1, 1, 0, 0, 0, 1, 0, 1, 1, 1, 1, 1, 0, 0, 1, 0, 1, 0],\n",
       "       [0, 1, 1, 1, 0, 1, 0, 0, 1, 1, 1, 0, 0, 0, 0, 1, 0, 1, 0, 0, 0],\n",
       "       [0, 0, 0, 0, 0, 0, 0, 1, 0, 1, 1, 1, 1, 1, 1, 0, 0, 0, 1, 0, 1],\n",
       "       [0, 1, 0, 1, 0, 1, 0, 1, 1, 1, 1, 0, 0, 1, 1, 0, 0, 1, 1, 0, 0],\n",
       "       [0, 1, 0, 1, 0, 1, 0, 0, 1, 1, 1, 0, 1, 1, 1, 1, 1, 0, 0, 1, 0],\n",
       "       [1, 1, 0, 1, 0, 1, 1, 1, 1, 0, 0, 1, 0, 1, 1, 0, 1, 1, 0, 1, 0],\n",
       "       [0, 0, 0, 1, 0, 0, 0, 0, 0, 0, 0, 0, 0, 1, 1, 1, 1, 0, 1, 1, 0],\n",
       "       [1, 1, 1, 0, 1, 1, 1, 1, 0, 1, 1, 0, 1, 1, 0, 0, 0, 1, 1, 0, 0],\n",
       "       [0, 0, 0, 1, 0, 0, 0, 0, 0, 1, 0, 1, 1, 1, 0, 0, 0, 0, 0, 0, 0],\n",
       "       [1, 1, 0, 1, 0, 1, 1, 1, 0, 0, 1, 1, 0, 1, 0, 1, 1, 1, 0, 0, 0],\n",
       "       [0, 1, 0, 1, 0, 1, 0, 0, 1, 1, 0, 1, 0, 1, 1, 1, 1, 0, 1, 1, 0]])"
      ]
     },
     "execution_count": 20,
     "metadata": {},
     "output_type": "execute_result"
    }
   ],
   "source": [
    "arr"
   ]
  },
  {
   "cell_type": "code",
   "execution_count": 96,
   "metadata": {},
   "outputs": [],
   "source": [
    "def scanner(qrc):\n",
    "    bits = ''.join( str(qrc[x][y] ^ ((x+y)%2==0)) for x,y in ticTocGen())\n",
    "    size = int(bits[4:12],2)\n",
    "    return ''.join( chr(int(bits[i:i+8],2)) for i in range(12,12+8*size,8))\n",
    "\n",
    "\n",
    "def ticTocGen():\n",
    "    x,y,dx = 20,20,-1\n",
    "    while y>13: \n",
    "        yield from ( (x,y-dy) for dy in range(2) )\n",
    "        x+=dx\n",
    "        if x==8 or x>20:\n",
    "            dx *= -1\n",
    "            y  -= 2\n",
    "            x   = x==8 and 9 or 20"
   ]
  },
  {
   "cell_type": "code",
   "execution_count": 97,
   "metadata": {},
   "outputs": [
    {
     "data": {
      "text/plain": [
       "'Warrior'"
      ]
     },
     "execution_count": 97,
     "metadata": {},
     "output_type": "execute_result"
    }
   ],
   "source": [
    "scanner(qrcode)"
   ]
  },
  {
   "cell_type": "code",
   "execution_count": null,
   "metadata": {},
   "outputs": [],
   "source": []
  }
 ],
 "metadata": {
  "kernelspec": {
   "display_name": "Python 3",
   "language": "python",
   "name": "python3"
  },
  "language_info": {
   "codemirror_mode": {
    "name": "ipython",
    "version": 3
   },
   "file_extension": ".py",
   "mimetype": "text/x-python",
   "name": "python",
   "nbconvert_exporter": "python",
   "pygments_lexer": "ipython3",
   "version": "3.7.6"
  }
 },
 "nbformat": 4,
 "nbformat_minor": 4
}
